{
 "cells": [
  {
   "cell_type": "code",
   "execution_count": 1,
   "metadata": {},
   "outputs": [],
   "source": [
    "import os\n",
    "\n",
    "import numpy as np\n",
    "import pandas as pd\n",
    "from scipy.misc import imread\n",
    "from sklearn.linear_model import RidgeClassifier\n",
    "from sklearn.naive_bayes import BernoulliNB, GaussianNB\n",
    "from sklearn.tree import ExtraTreeClassifier, DecisionTreeClassifier\n",
    "from sklearn.neighbors import NearestCentroid, KNeighborsClassifier\n",
    "from sklearn.ensemble import ExtraTreesClassifier, RandomForestClassifier\n",
    "from sklearn.model_selection import cross_validate, GridSearchCV, learning_curve\n",
    "from sklearn.preprocessing import LabelEncoder\n",
    "\n",
    "import matplotlib.pyplot as plt\n",
    "\n",
    "%matplotlib inline"
   ]
  },
  {
   "cell_type": "code",
   "execution_count": 5,
   "metadata": {},
   "outputs": [
    {
     "name": "stderr",
     "output_type": "stream",
     "text": [
      "C:\\ProgramData\\Anaconda3\\lib\\site-packages\\ipykernel_launcher.py:14: DeprecationWarning: `imread` is deprecated!\n",
      "`imread` is deprecated in SciPy 1.0.0, and will be removed in 1.2.0.\n",
      "Use ``imageio.imread`` instead.\n",
      "  \n"
     ]
    },
    {
     "name": "stdout",
     "output_type": "stream",
     "text": [
      "=============================================="
     ]
    }
   ],
   "source": [
    "#Encode the train images \n",
    "#Save in a CSV file\n",
    "root_dir = 'C:/Users/sahil/Documents/Business Analytics/Coursework - Winter Term/AI 2/Group Project/DevanagariHandwrittenCharacterDataset'\n",
    "img_dir = os.path.join(root_dir, 'Train')\n",
    "\n",
    "pixels = np.array(['pixel_{:04d}'.format(x) for x in range(1024)])\n",
    "flag = True\n",
    "\n",
    "for char_name in sorted(os.listdir(img_dir)):\n",
    "    char_dir = os.path.join(img_dir, char_name)\n",
    "    img_df = pd.DataFrame(columns=pixels)\n",
    "    \n",
    "    for img_file in sorted(os.listdir(char_dir)):\n",
    "        image = pd.Series(imread(os.path.join(char_dir, img_file)).flatten(), index=pixels)\n",
    "        img_df = img_df.append(image.T, ignore_index=True)\n",
    "        \n",
    "    img_df = img_df.astype(np.uint8)\n",
    "    img_df['character'] = char_name\n",
    "    \n",
    "    img_df.to_csv('C:/Users/sahil/Documents/Business Analytics/Coursework - Winter Term/AI 2/Group Project/Dev_train.csv', index=False, mode='a', header=flag)\n",
    "    flag=False\n",
    "    \n",
    "    print('=', end='')\n",
    "    \n",
    "    \n",
    "df = pd.read_csv('C:/Users/sahil/Documents/Business Analytics/Coursework - Winter Term/AI 2/Group Project/Dev_train.csv')\n",
    "\n",
    "df['character_class'] = LabelEncoder().fit_transform(df.character)\n",
    "df.drop('character', axis=1, inplace=True)\n",
    "df = df.astype(np.uint8)\n",
    "\n",
    "# df.to_csv(r'C:\\Users\\sahil\\Desktop\\Dev_train.csv')\n"
   ]
  },
  {
   "cell_type": "code",
   "execution_count": 6,
   "metadata": {},
   "outputs": [
    {
     "name": "stderr",
     "output_type": "stream",
     "text": [
      "C:\\ProgramData\\Anaconda3\\lib\\site-packages\\ipykernel_launcher.py:12: DeprecationWarning: `imread` is deprecated!\n",
      "`imread` is deprecated in SciPy 1.0.0, and will be removed in 1.2.0.\n",
      "Use ``imageio.imread`` instead.\n",
      "  if sys.path[0] == '':\n"
     ]
    },
    {
     "name": "stdout",
     "output_type": "stream",
     "text": [
      "=============================================="
     ]
    },
    {
     "ename": "AttributeError",
     "evalue": "'DataFrame' object has no attribute 'character'",
     "output_type": "error",
     "traceback": [
      "\u001b[1;31m---------------------------------------------------------------------------\u001b[0m",
      "\u001b[1;31mAttributeError\u001b[0m                            Traceback (most recent call last)",
      "\u001b[1;32m<ipython-input-6-1f2cf4d543bd>\u001b[0m in \u001b[0;36m<module>\u001b[1;34m()\u001b[0m\n\u001b[0;32m     24\u001b[0m \u001b[0mdf2\u001b[0m \u001b[1;33m=\u001b[0m \u001b[0mpd\u001b[0m\u001b[1;33m.\u001b[0m\u001b[0mread_csv\u001b[0m\u001b[1;33m(\u001b[0m\u001b[1;34m'C:/Users/sahil/Desktop/Dev_test.csv'\u001b[0m\u001b[1;33m)\u001b[0m\u001b[1;33m\u001b[0m\u001b[0m\n\u001b[0;32m     25\u001b[0m \u001b[1;33m\u001b[0m\u001b[0m\n\u001b[1;32m---> 26\u001b[1;33m \u001b[0mdf2\u001b[0m\u001b[1;33m[\u001b[0m\u001b[1;34m'character_class'\u001b[0m\u001b[1;33m]\u001b[0m \u001b[1;33m=\u001b[0m \u001b[0mLabelEncoder\u001b[0m\u001b[1;33m(\u001b[0m\u001b[1;33m)\u001b[0m\u001b[1;33m.\u001b[0m\u001b[0mfit_transform\u001b[0m\u001b[1;33m(\u001b[0m\u001b[0mdf\u001b[0m\u001b[1;33m.\u001b[0m\u001b[0mcharacter\u001b[0m\u001b[1;33m)\u001b[0m\u001b[1;33m\u001b[0m\u001b[0m\n\u001b[0m\u001b[0;32m     27\u001b[0m \u001b[0mdf2\u001b[0m\u001b[1;33m.\u001b[0m\u001b[0mdrop\u001b[0m\u001b[1;33m(\u001b[0m\u001b[1;34m'character'\u001b[0m\u001b[1;33m,\u001b[0m \u001b[0maxis\u001b[0m\u001b[1;33m=\u001b[0m\u001b[1;36m1\u001b[0m\u001b[1;33m,\u001b[0m \u001b[0minplace\u001b[0m\u001b[1;33m=\u001b[0m\u001b[1;32mTrue\u001b[0m\u001b[1;33m)\u001b[0m\u001b[1;33m\u001b[0m\u001b[0m\n\u001b[0;32m     28\u001b[0m \u001b[0mdf2\u001b[0m \u001b[1;33m=\u001b[0m \u001b[0mdf2\u001b[0m\u001b[1;33m.\u001b[0m\u001b[0mastype\u001b[0m\u001b[1;33m(\u001b[0m\u001b[0mnp\u001b[0m\u001b[1;33m.\u001b[0m\u001b[0muint8\u001b[0m\u001b[1;33m)\u001b[0m\u001b[1;33m\u001b[0m\u001b[0m\n",
      "\u001b[1;32mC:\\ProgramData\\Anaconda3\\lib\\site-packages\\pandas\\core\\generic.py\u001b[0m in \u001b[0;36m__getattr__\u001b[1;34m(self, name)\u001b[0m\n\u001b[0;32m   4370\u001b[0m             \u001b[1;32mif\u001b[0m \u001b[0mself\u001b[0m\u001b[1;33m.\u001b[0m\u001b[0m_info_axis\u001b[0m\u001b[1;33m.\u001b[0m\u001b[0m_can_hold_identifiers_and_holds_name\u001b[0m\u001b[1;33m(\u001b[0m\u001b[0mname\u001b[0m\u001b[1;33m)\u001b[0m\u001b[1;33m:\u001b[0m\u001b[1;33m\u001b[0m\u001b[0m\n\u001b[0;32m   4371\u001b[0m                 \u001b[1;32mreturn\u001b[0m \u001b[0mself\u001b[0m\u001b[1;33m[\u001b[0m\u001b[0mname\u001b[0m\u001b[1;33m]\u001b[0m\u001b[1;33m\u001b[0m\u001b[0m\n\u001b[1;32m-> 4372\u001b[1;33m             \u001b[1;32mreturn\u001b[0m \u001b[0mobject\u001b[0m\u001b[1;33m.\u001b[0m\u001b[0m__getattribute__\u001b[0m\u001b[1;33m(\u001b[0m\u001b[0mself\u001b[0m\u001b[1;33m,\u001b[0m \u001b[0mname\u001b[0m\u001b[1;33m)\u001b[0m\u001b[1;33m\u001b[0m\u001b[0m\n\u001b[0m\u001b[0;32m   4373\u001b[0m \u001b[1;33m\u001b[0m\u001b[0m\n\u001b[0;32m   4374\u001b[0m     \u001b[1;32mdef\u001b[0m \u001b[0m__setattr__\u001b[0m\u001b[1;33m(\u001b[0m\u001b[0mself\u001b[0m\u001b[1;33m,\u001b[0m \u001b[0mname\u001b[0m\u001b[1;33m,\u001b[0m \u001b[0mvalue\u001b[0m\u001b[1;33m)\u001b[0m\u001b[1;33m:\u001b[0m\u001b[1;33m\u001b[0m\u001b[0m\n",
      "\u001b[1;31mAttributeError\u001b[0m: 'DataFrame' object has no attribute 'character'"
     ]
    }
   ],
   "source": [
    "root_dir = 'C:/Users/sahil/Documents/Business Analytics/Coursework - Winter Term/AI 2/Group Project/DevanagariHandwrittenCharacterDataset'\n",
    "img_dir = os.path.join(root_dir, 'Test')\n",
    "\n",
    "pixels = np.array(['pixel_{:04d}'.format(x) for x in range(1024)])\n",
    "flag = True\n",
    "\n",
    "for char_name1 in sorted(os.listdir(img_dir)):\n",
    "    char_dir1 = os.path.join(img_dir, char_name1)\n",
    "    img_df1 = pd.DataFrame(columns=pixels)\n",
    "    \n",
    "    for img_file1 in sorted(os.listdir(char_dir1)):\n",
    "        image1 = pd.Series(imread(os.path.join(char_dir1, img_file1)).flatten(), index=pixels)\n",
    "        img_df1 = img_df1.append(image1.T, ignore_index=True)\n",
    "        \n",
    "    img_df1 = img_df1.astype(np.uint8)\n",
    "    img_df1['character'] = char_name1\n",
    "    \n",
    "    img_df1.to_csv('C:/Users/sahil/Documents/Business Analytics/Coursework - Winter Term/AI 2/Group Project/Dev_test.csv', index=False, mode='a', header=flag)\n",
    "    flag=False\n",
    "    \n",
    "    print('=', end='')\n",
    "    \n",
    "df2 = pd.read_csv('C:/Users/sahil/Documents/Business Analytics/Coursework - Winter Term/AI 2/Group Project/Dev_test.csv')\n",
    "df2['character_class'] = LabelEncoder().fit_transform(df2.character)\n",
    "df2.drop('character', axis=1, inplace=True)\n",
    "df2 = df2.astype(np.uint8)"
   ]
  },
  {
   "cell_type": "code",
   "execution_count": 94,
   "metadata": {},
   "outputs": [],
   "source": [
    "df = pd.read_csv('C:/Users/sahil/Documents/Business Analytics/Coursework - Winter Term/AI 2/Group Project/Dev_train.csv')\n",
    "df['character_class'] = LabelEncoder().fit_transform(df.character)\n",
    "df.drop('character', axis=1, inplace=True)\n",
    "df = df.astype(np.uint8)\n",
    "\n",
    "df2 = pd.read_csv('C:/Users/sahil/Documents/Business Analytics/Coursework - Winter Term/AI 2/Group Project/Dev_test.csv')\n",
    "df2['character_class'] = LabelEncoder().fit_transform(df2.character)\n",
    "df2.drop('character', axis=1, inplace=True)\n",
    "df2 = df2.astype(np.uint8)"
   ]
  },
  {
   "cell_type": "code",
   "execution_count": 118,
   "metadata": {},
   "outputs": [
    {
     "name": "stdout",
     "output_type": "stream",
     "text": [
      "(78200, 1024) 78200\n",
      "(78200,) 78200\n",
      "1024\n",
      "45\n"
     ]
    }
   ],
   "source": [
    "# X = np.array(df1.iloc[0:1022])\n",
    "df_train = np.array(df.values)\n",
    "df_test = np.array(df2.values)\n",
    "\n",
    "x_train = (df_train[:, 0:1024])\n",
    "y_train = (df_train[:, 1024])\n",
    "x_test = (df_test[:, 0:1024])\n",
    "y_test = (df_test[:, 1024])\n",
    "\n",
    "print (np.shape(x_train), len(x_train))\n",
    "print (np.shape(y_train), len(y_train))\n",
    "\n",
    "# Sample Row\n",
    "print (len(x_train[78199]))\n",
    "print (y_train[78199])\n",
    "\n",
    "x_train = x_train.reshape(x_train.shape[0], 32, 32, 1)\n",
    "x_test = x_test.reshape(x_test.shape[0], 32, 32, 1)\n",
    "\n",
    "# Normalize\n",
    "x_train = x_train / 255.\n",
    "x_test = x_test / 255.\n",
    "\n"
   ]
  },
  {
   "cell_type": "code",
   "execution_count": 119,
   "metadata": {},
   "outputs": [
    {
     "data": {
      "text/plain": [
       "(-0.5, 31.5, 31.5, -0.5)"
      ]
     },
     "execution_count": 119,
     "metadata": {},
     "output_type": "execute_result"
    },
    {
     "data": {
      "image/png": "[encoded data removed]",
      "text/plain": [
       "<Figure size 432x288 with 1 Axes>"
      ]
     },
     "metadata": {},
     "output_type": "display_data"
    }
   ],
   "source": [
    "plt.subplot(131) #(131) -> 1 row, 3 columns, the first plot  \n",
    "plt.imshow(x_train[0][:,:,0], cmap='gray')\n",
    "plt.title(y_train[0])\n",
    "plt.axis('off')"
   ]
  },
  {
   "cell_type": "code",
   "execution_count": 120,
   "metadata": {},
   "outputs": [
    {
     "name": "stdout",
     "output_type": "stream",
     "text": [
      "(13800,)\n"
     ]
    }
   ],
   "source": [
    "y_train = y_train.reshape(y_train.shape[0], 1)\n",
    "y_test = y_test.reshape(y_test.shape[0], 1)\n",
    "\n",
    "\n",
    "num_classes = 46\n",
    "y_train = keras.utils.to_categorical(y_train, num_classes)\n",
    "y_test = keras.utils.to_categorical(y_test, num_classes)\n",
    "\n"
   ]
  },
  {
   "cell_type": "code",
   "execution_count": 127,
   "metadata": {},
   "outputs": [
    {
     "name": "stdout",
     "output_type": "stream",
     "text": [
      "Train on 78200 samples, validate on 13800 samples\n",
      "Epoch 1/3\n",
      "78200/78200 [==============================] - 29s 376us/step - loss: 1.7468 - acc: 0.5558 - val_loss: 0.9222 - val_acc: 0.7435\n",
      "Epoch 2/3\n",
      "78200/78200 [==============================] - 29s 372us/step - loss: 0.7268 - acc: 0.7965 - val_loss: 0.5657 - val_acc: 0.8361\n",
      "Epoch 3/3\n",
      "78200/78200 [==============================] - 29s 375us/step - loss: 0.4687 - acc: 0.8663 - val_loss: 0.4277 - val_acc: 0.8787\n"
     ]
    },
    {
     "data": {
      "text/plain": [
       "<keras.callbacks.History at 0x2bbe0442e80>"
      ]
     },
     "execution_count": 127,
     "metadata": {},
     "output_type": "execute_result"
    }
   ],
   "source": [
    "import keras\n",
    "from keras.models import Sequential\n",
    "from keras.layers import Dense, Dropout, Flatten\n",
    "from keras.layers import Conv2D, MaxPooling2D\n",
    "from keras.optimizers import SGD\n",
    "#To clear model weights after each run\n",
    "from keras.backend import clear_session\n",
    "\n",
    "clear_session()\n",
    "model = Sequential()\n",
    "\n",
    "model.add(Conv2D(16, (3, 3), activation='relu', input_shape=(32, 32, 1)))\n",
    "# Max pooling\n",
    "model.add(MaxPooling2D(pool_size=(2, 2)))\n",
    "model.add(Dropout(0.))\n",
    "\n",
    "model.add(Conv2D(32, (3, 3), activation='relu'))\n",
    "# Max pooling\n",
    "model.add(MaxPooling2D(pool_size=(2, 2)))\n",
    "model.add(Flatten())\n",
    "\n",
    "model.add(Dense(128, activation='relu'))\n",
    "model.add(Dropout(0.))\n",
    "\n",
    "model.add(Dense(num_classes, activation='softmax'))\n",
    "\n",
    "#initalize an optimizer\n",
    "opt = keras.optimizers.rmsprop(lr=0.0001, decay = 1e-6)\n",
    "\n",
    "# Compile the model\n",
    "model.compile(loss='categorical_crossentropy', metrics = ['accuracy'], optimizer=opt)\n",
    "\n",
    "# Train the model\n",
    "model.fit(x_train, y_train, batch_size=32, epochs = 3, validation_data=(x_test,y_test))"
   ]
  },
  {
   "cell_type": "code",
   "execution_count": 128,
   "metadata": {},
   "outputs": [
    {
     "name": "stdout",
     "output_type": "stream",
     "text": [
      "13800/13800 [==============================] - 2s 141us/step\n"
     ]
    },
    {
     "data": {
      "text/plain": [
       "[0.4276729551387573, 0.878695652173913]"
      ]
     },
     "execution_count": 128,
     "metadata": {},
     "output_type": "execute_result"
    }
   ],
   "source": [
    "model.evaluate(x_test, y_test)"
   ]
  },
  {
   "cell_type": "code",
   "execution_count": null,
   "metadata": {},
   "outputs": [],
   "source": []
  }
 ],
 "metadata": {
  "kernelspec": {
   "display_name": "Python 3",
   "language": "python",
   "name": "python3"
  },
  "language_info": {
   "codemirror_mode": {
    "name": "ipython",
    "version": 3
   },
   "file_extension": ".py",
   "mimetype": "text/x-python",
   "name": "python",
   "nbconvert_exporter": "python",
   "pygments_lexer": "ipython3",
   "version": "3.6.5"
  }
 },
 "nbformat": 4,
 "nbformat_minor": 2
}
